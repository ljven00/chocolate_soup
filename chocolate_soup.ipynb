{
 "cells": [
  {
   "cell_type": "markdown",
   "id": "0f61dfe9-cfd6-4022-a9ce-743a00f03019",
   "metadata": {},
   "source": [
    "# Scrapping With BeautifulSoup for Chocolate Review Analysis\n",
    "\n",
    "In this project we gonna scrap a Codecademy website that contains information about chocolate, then analyze the data to answer the following questions:\n",
    "\n",
    "- Where are the best cocao beans grown?\n",
    "- Which countries produce the highest-rated bars?\n",
    "- What’s the relationship between cocao solids percentage and rating?\n",
    "\n",
    "As we are scrapping the data from a website, it is not ready for analysis until we clean and tidy it."
   ]
  },
  {
   "cell_type": "markdown",
   "id": "af9b6daf-caf5-4993-9761-74e1bd73d9e9",
   "metadata": {},
   "source": [
    "## Structure of the data\n",
    "\n",
    "The data is laid out on a table and each column is labelled with the column name as the class. It has the following format:\n",
    "\n",
    "| Company  (Maker-if known) | Specific Bean Origin or Bar Name | REF | Review Date |Cocoa Percent | Company Location | Rating | Bean Type |\tBroad Bean Origin |\n",
    "| --- | --- | --- | --- | --- | --- | --- | --- | --- |\n",
    "| A. Morin | Sur del Lago | 1315 | 2014 | 70% |\tFrance | 3.5 | Criollo | Venezuela |\n",
    "| Adi | Vanua Levu | 705 | 2011 | 60% | Fiji | 2.75 | Trinitario | Fiji |"
   ]
  },
  {
   "cell_type": "markdown",
   "id": "e22134ad-fee0-4479-9e4a-3291ee255225",
   "metadata": {},
   "source": [
    "## Libraries\n",
    "\n",
    "For the project we need different python library. *request* to make request to the website, *bs4* to extract the data from the response we get of the website, *pandas* for data cleaning, *matplotlib* for visualizaling the data."
   ]
  },
  {
   "cell_type": "code",
   "execution_count": 2,
   "id": "9780e0aa-58b6-4b80-8380-0a8e2fe86b1a",
   "metadata": {},
   "outputs": [],
   "source": [
    "# Importing necessary libraries\n",
    "\n",
    "import requests\n",
    "from bs4 import BeautifulSoup\n",
    "import pandas as pd\n",
    "from matplotlib import pyplot as plt"
   ]
  },
  {
   "cell_type": "code",
   "execution_count": 3,
   "id": "3d482fb0-ba70-47aa-ac95-bab863d1eedf",
   "metadata": {},
   "outputs": [],
   "source": [
    "# Requesting the data \n",
    "\n",
    "URL = \"https://content.codecademy.com/courses/beautifulsoup/cacao/index.html\"\n",
    "COLUMNS = [\"Company\", \"Origin\", \"Ref\", \"ReviewDate\", \"CocoaPercent\", \"CompanyLocation\",\n",
    "\"Rating\", \"BeanType\", \"BroadBeanOrigin\"]\n",
    "\n",
    "response = requests.get(URL)\n",
    "soup = BeautifulSoup(response.content, \"html.parser\")"
   ]
  },
  {
   "cell_type": "code",
   "execution_count": null,
   "id": "c6b31abd-cfbc-420f-a6a2-1275575ddaa8",
   "metadata": {},
   "outputs": [],
   "source": []
  }
 ],
 "metadata": {
  "kernelspec": {
   "display_name": "Python 3 (ipykernel)",
   "language": "python",
   "name": "python3"
  },
  "language_info": {
   "codemirror_mode": {
    "name": "ipython",
    "version": 3
   },
   "file_extension": ".py",
   "mimetype": "text/x-python",
   "name": "python",
   "nbconvert_exporter": "python",
   "pygments_lexer": "ipython3",
   "version": "3.12.7"
  }
 },
 "nbformat": 4,
 "nbformat_minor": 5
}
